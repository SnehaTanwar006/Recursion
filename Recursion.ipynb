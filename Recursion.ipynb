{
  "nbformat": 4,
  "nbformat_minor": 0,
  "metadata": {
    "colab": {
      "provenance": [],
      "authorship_tag": "ABX9TyNUgCBTLwYCmDPesEUoKbci",
      "include_colab_link": true
    },
    "kernelspec": {
      "name": "python3",
      "display_name": "Python 3"
    },
    "language_info": {
      "name": "python"
    }
  },
  "cells": [
    {
      "cell_type": "markdown",
      "metadata": {
        "id": "view-in-github",
        "colab_type": "text"
      },
      "source": [
        "<a href=\"https://colab.research.google.com/github/SnehaTanwar006/Recursion/blob/main/Recursion.ipynb\" target=\"_parent\"><img src=\"https://colab.research.google.com/assets/colab-badge.svg\" alt=\"Open In Colab\"/></a>"
      ]
    },
    {
      "cell_type": "markdown",
      "source": [
        "# Factorial"
      ],
      "metadata": {
        "id": "OvgZOUmCcHVD"
      }
    },
    {
      "cell_type": "code",
      "execution_count": null,
      "metadata": {
        "colab": {
          "base_uri": "https://localhost:8080/"
        },
        "id": "b0nsGR1ECcdy",
        "outputId": "2c3ee050-6f31-4a47-f169-e662a9df027e"
      },
      "outputs": [
        {
          "output_type": "stream",
          "name": "stdout",
          "text": [
            "120\n"
          ]
        }
      ],
      "source": [
        "def fact(n):\n",
        "    if n == 1:\n",
        "        return 1\n",
        "    else:\n",
        "        return n*fact(n-1)\n",
        "\n",
        "print(fact(5))"
      ]
    },
    {
      "cell_type": "code",
      "source": [
        "def fact(n):\n",
        "    if n == 1:\n",
        "        return 1\n",
        "    else:\n",
        "        print(\"calling fact for m = \", n-1)\n",
        "        return n*fact(n-1)\n",
        "\n",
        "print(fact(5))"
      ],
      "metadata": {
        "colab": {
          "base_uri": "https://localhost:8080/"
        },
        "id": "MiMuLqSkFXVW",
        "outputId": "d4c25dde-fefb-4012-802c-7dfae07f8d59"
      },
      "execution_count": null,
      "outputs": [
        {
          "output_type": "stream",
          "name": "stdout",
          "text": [
            "calling fact for m =  4\n",
            "calling fact for m =  3\n",
            "calling fact for m =  2\n",
            "calling fact for m =  1\n",
            "120\n"
          ]
        }
      ]
    },
    {
      "cell_type": "code",
      "source": [
        "def fact(n, depth=0):\n",
        "    indent = \"  \" * depth\n",
        "    if n == 1:\n",
        "        print(f\"{indent}fact(1) = 1 [BASE CASE]\")\n",
        "        return 1\n",
        "    else:\n",
        "        print(f\"{indent}→ Calling fact({n-1}) from fact({n})\")\n",
        "        result = fact(n-1, depth+1)\n",
        "        final_result = n * result\n",
        "        print(f\"{indent}← fact({n}) = {n} * {result} = {final_result}\")\n",
        "        return final_result\n",
        "\n",
        "print(fact(5))"
      ],
      "metadata": {
        "colab": {
          "base_uri": "https://localhost:8080/"
        },
        "id": "Q7BoqosPCn7r",
        "outputId": "d093bca3-20c5-4797-c234-0c10ce45f1a5"
      },
      "execution_count": null,
      "outputs": [
        {
          "output_type": "stream",
          "name": "stdout",
          "text": [
            "→ Calling fact(4) from fact(5)\n",
            "  → Calling fact(3) from fact(4)\n",
            "    → Calling fact(2) from fact(3)\n",
            "      → Calling fact(1) from fact(2)\n",
            "        fact(1) = 1 [BASE CASE]\n",
            "      ← fact(2) = 2 * 1 = 2\n",
            "    ← fact(3) = 3 * 2 = 6\n",
            "  ← fact(4) = 4 * 6 = 24\n",
            "← fact(5) = 5 * 24 = 120\n",
            "120\n"
          ]
        }
      ]
    },
    {
      "cell_type": "markdown",
      "source": [
        "# Fibonacci Sequence"
      ],
      "metadata": {
        "id": "5weP3lrFTjfz"
      }
    },
    {
      "cell_type": "code",
      "source": [
        "import time"
      ],
      "metadata": {
        "id": "wBT0FAjqXfKm"
      },
      "execution_count": null,
      "outputs": []
    },
    {
      "cell_type": "code",
      "source": [
        "start_time = time.time()\n",
        "\n",
        "def fib(n):\n",
        "    if n <= 1:\n",
        "        return n\n",
        "    else:\n",
        "        return fib(n-1) + fib(n-2)\n",
        "\n",
        "print(fib(20))\n",
        "\n",
        "end_time = time.time()\n",
        "\n",
        "print(f\"Time taken: {end_time - start_time:.4f} seconds\")"
      ],
      "metadata": {
        "colab": {
          "base_uri": "https://localhost:8080/"
        },
        "id": "zGrNIMFCW4df",
        "outputId": "3f634cb6-90e9-4cbc-aef1-f6e17bf32c64"
      },
      "execution_count": null,
      "outputs": [
        {
          "output_type": "stream",
          "name": "stdout",
          "text": [
            "6765\n",
            "Time taken: 0.0035 seconds\n"
          ]
        }
      ]
    },
    {
      "cell_type": "code",
      "source": [
        "def fib(n, depth=0):\n",
        "    indent = \"  \" * depth\n",
        "    if n <= 1:\n",
        "        print(f\"{indent}fib({n}) = {n} [BASE CASE]\")\n",
        "        return n\n",
        "    else:\n",
        "        print(f\"{indent}→ Computing fib({n}) = fib({n-1}) + fib({n-2})\")\n",
        "\n",
        "        print(f\"{indent}  ↓ Calling fib({n-1})\")\n",
        "        result1 = fib(n-1, depth+1)\n",
        "\n",
        "        print(f\"{indent}  ↓ Calling fib({n-2})\")\n",
        "        result2 = fib(n-2, depth+1)\n",
        "\n",
        "        final_result = result1 + result2\n",
        "        print(f\"{indent}← fib({n}) = {result1} + {result2} = {final_result}\")\n",
        "        return final_result\n",
        "\n",
        "print(fib(4))"
      ],
      "metadata": {
        "colab": {
          "base_uri": "https://localhost:8080/"
        },
        "id": "q2YAyP7zFKhQ",
        "outputId": "ab3789dc-5f10-43da-a45e-9919a8e8c49a"
      },
      "execution_count": null,
      "outputs": [
        {
          "output_type": "stream",
          "name": "stdout",
          "text": [
            "→ Computing fib(4) = fib(3) + fib(2)\n",
            "  ↓ Calling fib(3)\n",
            "  → Computing fib(3) = fib(2) + fib(1)\n",
            "    ↓ Calling fib(2)\n",
            "    → Computing fib(2) = fib(1) + fib(0)\n",
            "      ↓ Calling fib(1)\n",
            "      fib(1) = 1 [BASE CASE]\n",
            "      ↓ Calling fib(0)\n",
            "      fib(0) = 0 [BASE CASE]\n",
            "    ← fib(2) = 1 + 0 = 1\n",
            "    ↓ Calling fib(1)\n",
            "    fib(1) = 1 [BASE CASE]\n",
            "  ← fib(3) = 1 + 1 = 2\n",
            "  ↓ Calling fib(2)\n",
            "  → Computing fib(2) = fib(1) + fib(0)\n",
            "    ↓ Calling fib(1)\n",
            "    fib(1) = 1 [BASE CASE]\n",
            "    ↓ Calling fib(0)\n",
            "    fib(0) = 0 [BASE CASE]\n",
            "  ← fib(2) = 1 + 0 = 1\n",
            "← fib(4) = 2 + 1 = 3\n",
            "3\n"
          ]
        }
      ]
    },
    {
      "cell_type": "code",
      "source": [
        "from functools import lru_cache\n",
        "\n",
        "start_time = time.time()\n",
        "\n",
        "@lru_cache(maxsize=None)\n",
        "def fib(n):\n",
        "    if n <= 1:\n",
        "        return n\n",
        "    else:\n",
        "        return fib(n-1) + fib(n-2)\n",
        "\n",
        "print(fib(20))\n",
        "\n",
        "end_time = time.time()\n",
        "\n",
        "print(f\"Time taken: {end_time - start_time:.4f} seconds\")"
      ],
      "metadata": {
        "colab": {
          "base_uri": "https://localhost:8080/"
        },
        "id": "fU4WCx23V4ae",
        "outputId": "da26d11d-f83f-48f1-91b5-7c9a51970225"
      },
      "execution_count": null,
      "outputs": [
        {
          "output_type": "stream",
          "name": "stdout",
          "text": [
            "6765\n",
            "Time taken: 0.0003 seconds\n"
          ]
        }
      ]
    },
    {
      "cell_type": "markdown",
      "source": [
        "# Subset Sum Problem"
      ],
      "metadata": {
        "id": "BhsK8QDZYVnE"
      }
    },
    {
      "cell_type": "code",
      "source": [
        "def subset_sum(arr, target, index=0):\n",
        "    # Base cases\n",
        "    if target == 0:\n",
        "        return True  # Found a subset that sums to target\n",
        "    if index >= len(arr) or target < 0:\n",
        "        return False  # No more elements or target becomes negative\n",
        "\n",
        "    # Two choices: include current element or exclude it\n",
        "    include = subset_sum(arr, target - arr[index], index + 1)\n",
        "    exclude = subset_sum(arr, target, index + 1)\n",
        "\n",
        "    return include or exclude\n",
        "\n",
        "# Test\n",
        "arr = [3, 34, 4, 12, 5, 2]\n",
        "target = 9\n",
        "print(f\"Subset sum {target} exists: {subset_sum(arr, target)}\")"
      ],
      "metadata": {
        "colab": {
          "base_uri": "https://localhost:8080/"
        },
        "id": "w6s-SxBbWdYb",
        "outputId": "69a6c517-f78c-432a-bbc1-afaf8d62c941"
      },
      "execution_count": null,
      "outputs": [
        {
          "output_type": "stream",
          "name": "stdout",
          "text": [
            "Subset sum 9 exists: True\n"
          ]
        }
      ]
    },
    {
      "cell_type": "code",
      "source": [
        "from functools import lru_cache\n",
        "\n",
        "def subset_sum_cached(arr, target):\n",
        "    @lru_cache(maxsize=None)\n",
        "    def helper(target, index):\n",
        "        # Base cases\n",
        "        if target == 0:\n",
        "            return True\n",
        "        if index >= len(arr) or target < 0:\n",
        "            return False\n",
        "\n",
        "        # Two choices: include current element or exclude it\n",
        "        include = helper(target - arr[index], index + 1)\n",
        "        exclude = helper(target, index + 1)\n",
        "\n",
        "        return include or exclude\n",
        "\n",
        "    return helper(target, 0)\n",
        "\n",
        "# Test\n",
        "arr = [3, 34, 4, 12, 5, 2]\n",
        "target = 9\n",
        "print(f\"Subset sum {target} exists: {subset_sum_cached(arr, target)}\")"
      ],
      "metadata": {
        "colab": {
          "base_uri": "https://localhost:8080/"
        },
        "id": "9kQ5cn7LYi0u",
        "outputId": "1df30492-56d3-4e33-bf8a-719cb02e897b"
      },
      "execution_count": null,
      "outputs": [
        {
          "output_type": "stream",
          "name": "stdout",
          "text": [
            "Subset sum 9 exists: True\n"
          ]
        }
      ]
    }
  ]
}